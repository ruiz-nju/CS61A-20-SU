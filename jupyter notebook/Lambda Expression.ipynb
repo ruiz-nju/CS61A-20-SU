{
 "cells": [
  {
   "cell_type": "code",
   "execution_count": 2,
   "id": "37413029",
   "metadata": {},
   "outputs": [],
   "source": [
    "x = 10\n",
    "square = x * x"
   ]
  },
  {
   "cell_type": "code",
   "execution_count": 3,
   "id": "0bbc4ea4",
   "metadata": {},
   "outputs": [
    {
     "data": {
      "text/plain": [
       "100"
      ]
     },
     "execution_count": 3,
     "metadata": {},
     "output_type": "execute_result"
    }
   ],
   "source": [
    "square"
   ]
  },
  {
   "cell_type": "code",
   "execution_count": 4,
   "id": "dae1f0a0",
   "metadata": {},
   "outputs": [],
   "source": [
    "square = lambda x : x * x"
   ]
  },
  {
   "cell_type": "code",
   "execution_count": 5,
   "id": "166fce62",
   "metadata": {},
   "outputs": [
    {
     "data": {
      "text/plain": [
       "225"
      ]
     },
     "execution_count": 5,
     "metadata": {},
     "output_type": "execute_result"
    }
   ],
   "source": [
    "square(15)"
   ]
  },
  {
   "cell_type": "code",
   "execution_count": 8,
   "id": "4b1cf83b",
   "metadata": {},
   "outputs": [
    {
     "data": {
      "text/plain": [
       "144"
      ]
     },
     "execution_count": 8,
     "metadata": {},
     "output_type": "execute_result"
    }
   ],
   "source": [
    "(lambda x : x * x)(12)"
   ]
  },
  {
   "cell_type": "code",
   "execution_count": 6,
   "id": "e8496264",
   "metadata": {},
   "outputs": [
    {
     "data": {
      "text/plain": [
       "<function __main__.<lambda>(x)>"
      ]
     },
     "execution_count": 6,
     "metadata": {},
     "output_type": "execute_result"
    }
   ],
   "source": [
    "square"
   ]
  },
  {
   "cell_type": "code",
   "execution_count": 5,
   "id": "e7607167",
   "metadata": {},
   "outputs": [],
   "source": [
    "def square(x):\n",
    "    return x * x"
   ]
  },
  {
   "cell_type": "code",
   "execution_count": 6,
   "id": "b10803a2",
   "metadata": {},
   "outputs": [
    {
     "data": {
      "text/plain": [
       "<function __main__.square(x)>"
      ]
     },
     "execution_count": 6,
     "metadata": {},
     "output_type": "execute_result"
    }
   ],
   "source": [
    "square"
   ]
  },
  {
   "cell_type": "code",
   "execution_count": 7,
   "id": "c3674ce8",
   "metadata": {},
   "outputs": [],
   "source": [
    "test = lambda x : square"
   ]
  },
  {
   "cell_type": "code",
   "execution_count": 8,
   "id": "72b95143",
   "metadata": {},
   "outputs": [
    {
     "data": {
      "text/plain": [
       "<function __main__.<lambda>(x)>"
      ]
     },
     "execution_count": 8,
     "metadata": {},
     "output_type": "execute_result"
    }
   ],
   "source": [
    "test"
   ]
  },
  {
   "cell_type": "code",
   "execution_count": 11,
   "id": "e3324c4d",
   "metadata": {},
   "outputs": [
    {
     "data": {
      "text/plain": [
       "9"
      ]
     },
     "execution_count": 11,
     "metadata": {},
     "output_type": "execute_result"
    }
   ],
   "source": [
    "test(100)(3)"
   ]
  },
  {
   "cell_type": "code",
   "execution_count": 16,
   "id": "e489f0d4",
   "metadata": {},
   "outputs": [],
   "source": [
    "from operator import add, mul, sub\n",
    "\n",
    "square = lambda x: x * x\n",
    "\n",
    "identity = lambda x: x\n",
    "\n",
    "triple = lambda x: 3 * x\n",
    "\n",
    "increment = lambda x: x + 1\n",
    "\n",
    "def accumulate(combiner, base, n, term):\n",
    "    \"\"\"Return the result of combining the first n terms in a sequence and base.\n",
    "    The terms to be combined are term(1), term(2), ..., term(n).  combiner is a\n",
    "    two-argument commutative function.\n",
    "\n",
    "    >>> accumulate(add, 0, 5, identity)  # 0 + 1 + 2 + 3 + 4 + 5\n",
    "    15\n",
    "    >>> accumulate(add, 11, 5, identity) # 11 + 1 + 2 + 3 + 4 + 5\n",
    "    26\n",
    "    >>> accumulate(add, 11, 0, identity) # 11\n",
    "    11\n",
    "    >>> accumulate(add, 11, 3, square)   # 11 + 1^2 + 2^2 + 3^2\n",
    "    25\n",
    "    >>> accumulate(mul, 2, 3, square)    # 2 * 1^2 * 2^2 * 3^2\n",
    "    72\n",
    "    >>> accumulate(lambda x, y: x + y + 1, 2, 3, square)\n",
    "    19\n",
    "    >>> accumulate(lambda x, y: 2 * (x + y), 2, 3, square)\n",
    "    58\n",
    "    >>> accumulate(lambda x, y: (x + y) % 17, 19, 20, square)\n",
    "    16\n",
    "    \"\"\"\n",
    "    \"*** YOUR CODE HERE ***\"\n",
    "    k = 1\n",
    "    while k <= n:\n",
    "        base = combiner(base, term(k))\n",
    "        k += 1\n",
    "    return base\n",
    "\n",
    "def compose1(func1, func2):\n",
    "    \"\"\"Return a function f, such that f(x) = func1(func2(x)).\"\"\"\n",
    "    def f(x):\n",
    "        return func1(func2(x))\n",
    "    return f"
   ]
  },
  {
   "cell_type": "code",
   "execution_count": 17,
   "id": "1aabccf1",
   "metadata": {},
   "outputs": [],
   "source": [
    "def make_repeater(func, n):\n",
    "    \"\"\"Return the function that computes the nth application of func.\n",
    "\n",
    "    >>> add_three = make_repeater(increment, 3)\n",
    "    >>> add_three(5)\n",
    "    8\n",
    "    >>> make_repeater(triple, 5)(1) # 3 * 3 * 3 * 3 * 3 * 1\n",
    "    243、\n",
    "    \n",
    "    \n",
    "    >>> make_repeater(square, 2)(5) # square(square(5))\n",
    "    625\n",
    "    >>> make_repeater(square, 4)(5) # square(square(square(square(5))))\n",
    "    152587890625\n",
    "    >>> make_repeater(square, 0)(5) # Yes, it makes sense to apply the function zero times!\n",
    "    5\n",
    "    \"\"\"\n",
    "    \"*** YOUR CODE HERE ***\"\n",
    "    return accumulate(compose1, identity, n, lambda x: func)"
   ]
  },
  {
   "cell_type": "code",
   "execution_count": 18,
   "id": "95df1bc6",
   "metadata": {},
   "outputs": [
    {
     "data": {
      "text/plain": [
       "243"
      ]
     },
     "execution_count": 18,
     "metadata": {},
     "output_type": "execute_result"
    }
   ],
   "source": [
    "make_repeater(triple, 5)(1)"
   ]
  }
 ],
 "metadata": {
  "kernelspec": {
   "display_name": "Python 3 (ipykernel)",
   "language": "python",
   "name": "python3"
  },
  "language_info": {
   "codemirror_mode": {
    "name": "ipython",
    "version": 3
   },
   "file_extension": ".py",
   "mimetype": "text/x-python",
   "name": "python",
   "nbconvert_exporter": "python",
   "pygments_lexer": "ipython3",
   "version": "3.11.5"
  }
 },
 "nbformat": 4,
 "nbformat_minor": 5
}
