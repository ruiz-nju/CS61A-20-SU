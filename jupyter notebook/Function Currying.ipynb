{
 "cells": [
  {
   "cell_type": "code",
   "execution_count": 1,
   "id": "995a04ea",
   "metadata": {},
   "outputs": [],
   "source": [
    "from operator import add\n",
    "\n",
    "def curry2(f):\n",
    "    def g(x):\n",
    "        def h(y):\n",
    "            return f(x,y)\n",
    "        return h\n",
    "    return g        "
   ]
  },
  {
   "cell_type": "code",
   "execution_count": 2,
   "id": "b2698d7a",
   "metadata": {},
   "outputs": [
    {
     "data": {
      "text/plain": [
       "5"
      ]
     },
     "execution_count": 2,
     "metadata": {},
     "output_type": "execute_result"
    }
   ],
   "source": [
    "add(2,3)"
   ]
  },
  {
   "cell_type": "code",
   "execution_count": 4,
   "id": "6055845f",
   "metadata": {},
   "outputs": [],
   "source": [
    "m = curry2(add)\n",
    "add_three = m(3)"
   ]
  },
  {
   "cell_type": "code",
   "execution_count": 5,
   "id": "cfc70a36",
   "metadata": {},
   "outputs": [
    {
     "data": {
      "text/plain": [
       "5"
      ]
     },
     "execution_count": 5,
     "metadata": {},
     "output_type": "execute_result"
    }
   ],
   "source": [
    "add_three(2)"
   ]
  },
  {
   "cell_type": "code",
   "execution_count": 9,
   "id": "64c8379f",
   "metadata": {},
   "outputs": [],
   "source": [
    "curry2 = lambda f:lambda x:lambda y: f(x,y)"
   ]
  },
  {
   "cell_type": "code",
   "execution_count": 10,
   "id": "3892b1aa",
   "metadata": {},
   "outputs": [],
   "source": [
    "m = curry2(add)"
   ]
  },
  {
   "cell_type": "code",
   "execution_count": 12,
   "id": "a968cf52",
   "metadata": {},
   "outputs": [
    {
     "data": {
      "text/plain": [
       "5"
      ]
     },
     "execution_count": 12,
     "metadata": {},
     "output_type": "execute_result"
    }
   ],
   "source": [
    "m(2)(3)"
   ]
  },
  {
   "cell_type": "code",
   "execution_count": null,
   "id": "0e68edcb",
   "metadata": {},
   "outputs": [],
   "source": []
  }
 ],
 "metadata": {
  "kernelspec": {
   "display_name": "Python 3 (ipykernel)",
   "language": "python",
   "name": "python3"
  },
  "language_info": {
   "codemirror_mode": {
    "name": "ipython",
    "version": 3
   },
   "file_extension": ".py",
   "mimetype": "text/x-python",
   "name": "python",
   "nbconvert_exporter": "python",
   "pygments_lexer": "ipython3",
   "version": "3.11.5"
  }
 },
 "nbformat": 4,
 "nbformat_minor": 5
}
